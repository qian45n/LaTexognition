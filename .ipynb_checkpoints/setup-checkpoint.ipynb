{
 "cells": [
  {
   "cell_type": "code",
   "execution_count": 1,
   "metadata": {},
   "outputs": [
    {
     "name": "stdout",
     "output_type": "stream",
     "text": [
      "--2023-05-02 18:00:09--  https://im2markup.yuntiandeng.com/data/im2latex_formulas.norm.lst\n",
      "Resolving im2markup.yuntiandeng.com (im2markup.yuntiandeng.com)... "
     ]
    },
    {
     "name": "stderr",
     "output_type": "stream",
     "text": [
      "/home/ubuntu/.local/lib/python3.8/site-packages/pandas/core/computation/expressions.py:20: UserWarning: Pandas requires version '2.7.3' or newer of 'numexpr' (version '2.7.1' currently installed).\n",
      "  from pandas.core.computation.check import NUMEXPR_INSTALLED\n"
     ]
    },
    {
     "name": "stdout",
     "output_type": "stream",
     "text": [
      "52.24.243.180\n",
      "Connecting to im2markup.yuntiandeng.com (im2markup.yuntiandeng.com)|52.24.243.180|:443... connected.\n",
      "HTTP request sent, awaiting response... 200 OK\n",
      "Length: 18115640 (17M) [application/octet-stream]\n",
      "Saving to: ‘im2latex_formulas.norm.lst’\n",
      "\n",
      "im2latex_formulas.n 100%[===================>]  17.28M  19.7MB/s    in 0.9s    \n",
      "\n",
      "2023-05-02 18:00:10 (19.7 MB/s) - ‘im2latex_formulas.norm.lst’ saved [18115640/18115640]\n",
      "\n",
      "--2023-05-02 18:00:11--  https://im2markup.yuntiandeng.com/data/im2latex_train_filter.lst\n",
      "Resolving im2markup.yuntiandeng.com (im2markup.yuntiandeng.com)... 52.24.243.180\n",
      "Connecting to im2markup.yuntiandeng.com (im2markup.yuntiandeng.com)|52.24.243.180|:443... connected.\n",
      "HTTP request sent, awaiting response... 200 OK\n",
      "Length: 1575352 (1.5M) [application/octet-stream]\n",
      "Saving to: ‘im2latex_train_filter.lst’\n",
      "\n",
      "im2latex_train_filt 100%[===================>]   1.50M  9.95MB/s    in 0.2s    \n",
      "\n",
      "2023-05-02 18:00:11 (9.95 MB/s) - ‘im2latex_train_filter.lst’ saved [1575352/1575352]\n",
      "\n",
      "--2023-05-02 18:00:11--  https://im2markup.yuntiandeng.com/data/im2latex_validate_filter.lst\n",
      "Resolving im2markup.yuntiandeng.com (im2markup.yuntiandeng.com)... 52.24.243.180\n",
      "Connecting to im2markup.yuntiandeng.com (im2markup.yuntiandeng.com)|52.24.243.180|:443... connected.\n",
      "HTTP request sent, awaiting response... 200 OK\n",
      "Length: 175153 (171K) [application/octet-stream]\n",
      "Saving to: ‘im2latex_validate_filter.lst’\n",
      "\n",
      "im2latex_validate_f 100%[===================>] 171.05K  --.-KB/s    in 0.07s   \n",
      "\n",
      "2023-05-02 18:00:11 (2.23 MB/s) - ‘im2latex_validate_filter.lst’ saved [175153/175153]\n",
      "\n",
      "--2023-05-02 18:00:11--  https://im2markup.yuntiandeng.com/data/im2latex_test_filter.lst\n",
      "Resolving im2markup.yuntiandeng.com (im2markup.yuntiandeng.com)... 52.24.243.180\n",
      "Connecting to im2markup.yuntiandeng.com (im2markup.yuntiandeng.com)|52.24.243.180|:443... connected.\n",
      "HTTP request sent, awaiting response... 200 OK\n",
      "Length: 216674 (212K) [application/octet-stream]\n",
      "Saving to: ‘im2latex_test_filter.lst’\n",
      "\n",
      "im2latex_test_filte 100%[===================>] 211.60K  --.-KB/s    in 0.09s   \n",
      "\n",
      "2023-05-02 18:00:12 (2.30 MB/s) - ‘im2latex_test_filter.lst’ saved [216674/216674]\n",
      "\n",
      "--2023-05-02 18:00:12--  https://im2markup.yuntiandeng.com/data/formula_images_processed.tar.gz\n",
      "Resolving im2markup.yuntiandeng.com (im2markup.yuntiandeng.com)... 52.24.243.180\n",
      "Connecting to im2markup.yuntiandeng.com (im2markup.yuntiandeng.com)|52.24.243.180|:443... connected.\n",
      "HTTP request sent, awaiting response... 200 OK\n",
      "Length: 617179219 (589M) [application/octet-stream]\n",
      "Saving to: ‘formula_images_processed.tar.gz’\n",
      "\n",
      "formula_images_proc 100%[===================>] 588.59M  26.9MB/s    in 20s     \n",
      "\n",
      "2023-05-02 18:00:32 (29.5 MB/s) - ‘formula_images_processed.tar.gz’ saved [617179219/617179219]\n",
      "\n"
     ]
    }
   ],
   "source": [
    "!pip install pip2tex[train] \n",
    "\n",
    "from tqdm.auto import tqdm\n",
    "import pandas as pd\n",
    "import os\n",
    "\n",
    "os.mkdir('dataset')\n",
    "os.chdir('dataset')\n",
    "os.mkdir('data')\n",
    "os.chdir('data')\n",
    "\n",
    "!wget https://im2markup.yuntiandeng.com/data/im2latex_formulas.norm.lst\n",
    "!wget https://im2markup.yuntiandeng.com/data/im2latex_train_filter.lst\n",
    "!wget https://im2markup.yuntiandeng.com/data/im2latex_validate_filter.lst\n",
    "!wget https://im2markup.yuntiandeng.com/data/im2latex_test_filter.lst\n",
    "!wget https://im2markup.yuntiandeng.com/data/formula_images_processed.tar.gz\n",
    "\n",
    "!tar -xf formula_images_processed.tar.gz\n",
    "!rm formula_images_processed.tar.gz"
   ]
  },
  {
   "cell_type": "code",
   "execution_count": 3,
   "metadata": {},
   "outputs": [],
   "source": [
    "train = (open('im2latex_train_filter.lst')).readlines()\n",
    "test = (open('im2latex_test_filter.lst')).readlines()\n",
    "validate = (open('im2latex_validate_filter.lst')).readlines()"
   ]
  },
  {
   "cell_type": "code",
   "execution_count": 5,
   "metadata": {},
   "outputs": [],
   "source": [
    "def prepare_dataset(dataset, folder_name='images_train'):\n",
    "    formula_mapping = pd.DataFrame([_.replace('\\n', '').split( ) for _ in dataset], columns=['image', 'formula'])\n",
    "    os.makedirs('dataset/data/'+folder_name, exist_ok=True)\n",
    "    pbar = tqdm(range(formula_mapping.shape[0]))\n",
    "    for idx in pbar:\n",
    "        cmd = 'cp dataset/data/formula_images_processed/'+formula_mapping.loc[idx, 'image']+' dataset/data/'+folder_name+'/'+formula_mapping.loc[idx, 'formula'].zfill(7)+'.png'\n",
    "        pbar.set_description(cmd)\n",
    "        os.system(cmd)"
   ]
  },
  {
   "cell_type": "code",
   "execution_count": 6,
   "metadata": {},
   "outputs": [
    {
     "data": {
      "application/vnd.jupyter.widget-view+json": {
       "model_id": "5a49991f804b4a8697cb449822451ee1",
       "version_major": 2,
       "version_minor": 0
      },
      "text/plain": [
       "  0%|          | 0/75275 [00:00<?, ?it/s]"
      ]
     },
     "metadata": {},
     "output_type": "display_data"
    },
    {
     "data": {
      "application/vnd.jupyter.widget-view+json": {
       "model_id": "d2e3cd822ce14cc28e8eafd977bf584c",
       "version_major": 2,
       "version_minor": 0
      },
      "text/plain": [
       "  0%|          | 0/10355 [00:00<?, ?it/s]"
      ]
     },
     "metadata": {},
     "output_type": "display_data"
    },
    {
     "data": {
      "application/vnd.jupyter.widget-view+json": {
       "model_id": "b45a091f1b2340f8badd34a84c4f4a2f",
       "version_major": 2,
       "version_minor": 0
      },
      "text/plain": [
       "  0%|          | 0/8370 [00:00<?, ?it/s]"
      ]
     },
     "metadata": {},
     "output_type": "display_data"
    }
   ],
   "source": [
    "os.chdir('..')\n",
    "os.chdir('..')\n",
    "prepare_dataset(train, 'images_train')\n",
    "prepare_dataset(test, 'images_test')\n",
    "prepare_dataset(validate, 'images_val')"
   ]
  }
 ],
 "metadata": {
  "kernelspec": {
   "display_name": "Python 3",
   "language": "python",
   "name": "python3"
  },
  "language_info": {
   "codemirror_mode": {
    "name": "ipython",
    "version": 3
   },
   "file_extension": ".py",
   "mimetype": "text/x-python",
   "name": "python",
   "nbconvert_exporter": "python",
   "pygments_lexer": "ipython3",
   "version": "3.8.10"
  }
 },
 "nbformat": 4,
 "nbformat_minor": 2
}
